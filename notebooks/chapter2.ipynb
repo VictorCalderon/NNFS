{
 "metadata": {
  "language_info": {
   "codemirror_mode": {
    "name": "ipython",
    "version": 3
   },
   "file_extension": ".py",
   "mimetype": "text/x-python",
   "name": "python",
   "nbconvert_exporter": "python",
   "pygments_lexer": "ipython3",
   "version": "3.8.1-final"
  },
  "orig_nbformat": 2,
  "kernelspec": {
   "name": "python38164bitdataconda334b1bda3dcf4171a1731baa469fef92",
   "display_name": "Python 3.8.1 64-bit ('Data': conda)"
  }
 },
 "nbformat": 4,
 "nbformat_minor": 2,
 "cells": [
  {
   "cell_type": "code",
   "execution_count": 1,
   "metadata": {},
   "outputs": [],
   "source": [
    "# Computation libraries\n",
    "import numpy as np"
   ]
  },
  {
   "cell_type": "code",
   "execution_count": 2,
   "metadata": {},
   "outputs": [],
   "source": [
    "# Data\n",
    "inputs = [1, 2, 3, 2.5]\n",
    "\n",
    "# Weights matrix (One per input neuron)\n",
    "weights = [[0.2, 0.8, -0.5, 1], [0.5, -0.91, 0.26, -0.5], [-0.26, -0.27, 0.17, 0.87]]\n",
    "\n",
    "# Biases\n",
    "biases = [2, 3, 0.5]"
   ]
  },
  {
   "source": [
    "<h3>Basic neural network with 3 neurons</h3>\n",
    "<h5>Pure Python</h5>"
   ],
   "cell_type": "markdown",
   "metadata": {}
  },
  {
   "cell_type": "code",
   "execution_count": 3,
   "metadata": {},
   "outputs": [
    {
     "output_type": "stream",
     "name": "stdout",
     "text": [
      "Neuron outputs: [4.8, 1.21, 2.385]\n"
     ]
    }
   ],
   "source": [
    "# Forward run\n",
    "def compute(inputs, weights, bias):\n",
    "    return sum([x * y for x, y in zip(inputs, weights)]) + bias\n",
    "\n",
    "# Compute output\n",
    "outputs = [compute(inputs, w, b) for w, b in zip(weights, biases)]\n",
    "\n",
    "# Show results\n",
    "print('Neuron outputs:', outputs)"
   ]
  },
  {
   "source": [],
   "cell_type": "markdown",
   "metadata": {}
  },
  {
   "source": [
    "<h3>Basic neural network with 3 neurons</h3>\n",
    "<h5>With Numpy</h5>"
   ],
   "cell_type": "markdown",
   "metadata": {}
  },
  {
   "cell_type": "code",
   "execution_count": 4,
   "metadata": {},
   "outputs": [
    {
     "output_type": "stream",
     "name": "stdout",
     "text": [
      "Neuron outputs: [4.8   1.21  2.385]\n"
     ]
    }
   ],
   "source": [
    "# Compute output\n",
    "layer_output = np.dot(weights, inputs) + biases\n",
    "\n",
    "# Show results\n",
    "print('Neuron outputs:', layer_output)"
   ]
  },
  {
   "source": [
    "<h3>Hidden Layers</h3>"
   ],
   "cell_type": "markdown",
   "metadata": {}
  },
  {
   "cell_type": "code",
   "execution_count": 5,
   "metadata": {},
   "outputs": [],
   "source": [
    "# Inputs to the neural network\n",
    "inputs = [\n",
    "    [1, 2, 3, 2.5],\n",
    "    [2., 5., -1., 2],\n",
    "    [-1.5, 2.7, 3.3, -0.8]\n",
    "]\n",
    "\n",
    "# Set of weights\n",
    "layer_1_weights = [\n",
    "    [0.2, 0.8, -0.5, 1],\n",
    "    [0.5, -0.91, 0.26, -0.5],\n",
    "    [-0.26, -0.27, 0.17, 0.87]\n",
    "]\n",
    "\n",
    "layer_2_weights = [\n",
    "    [0.1, -0.14, 0.5],\n",
    "    [-0.5, 0.12, -0.33],\n",
    "    [-0.44, 0.73, -0.13]\n",
    "]\n",
    "\n",
    "# Biases\n",
    "layer_1_bias = [2, 3, 0.5]\n",
    "layer_2_bias = [-1, 2, -0.5]"
   ]
  },
  {
   "cell_type": "code",
   "execution_count": 6,
   "metadata": {},
   "outputs": [
    {
     "output_type": "stream",
     "name": "stdout",
     "text": [
      "[[ 0.5031  -1.04185 -2.03875]\n [ 0.2434  -2.7332  -5.7633 ]\n [-0.99314  1.41254 -0.35655]]\n"
     ]
    }
   ],
   "source": [
    "# Run dot product for each layer\n",
    "layer_1_output = np.dot(inputs, np.array(layer_1_weights).T) + layer_1_bias\n",
    "layer_2_output = np.dot(layer_1_output, np.array(layer_2_weights).T) + layer_2_bias\n",
    "\n",
    "# Show layer 2 output\n",
    "print(layer_2_output)"
   ]
  }
 ]
}