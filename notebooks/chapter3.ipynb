{
 "metadata": {
  "language_info": {
   "codemirror_mode": {
    "name": "ipython",
    "version": 3
   },
   "file_extension": ".py",
   "mimetype": "text/x-python",
   "name": "python",
   "nbconvert_exporter": "python",
   "pygments_lexer": "ipython3",
   "version": "3.8.1-final"
  },
  "orig_nbformat": 2,
  "kernelspec": {
   "name": "python38164bitdataconda334b1bda3dcf4171a1731baa469fef92",
   "display_name": "Python 3.8.1 64-bit ('Data': conda)"
  }
 },
 "nbformat": 4,
 "nbformat_minor": 2,
 "cells": [
  {
   "cell_type": "code",
   "execution_count": 1,
   "metadata": {},
   "outputs": [],
   "source": [
    "# Computation libraries\n",
    "import numpy as np\n",
    "import matplotlib.pyplot as plt"
   ]
  },
  {
   "cell_type": "code",
   "execution_count": 2,
   "metadata": {},
   "outputs": [],
   "source": [
    "# Inputs to the neural network\n",
    "inputs = np.array([\n",
    "    [1, 2, 3, 2.5],\n",
    "    [2., 5., -1., 2],\n",
    "    [-1.5, 2.7, 3.3, -0.8]\n",
    "])\n",
    "\n",
    "# Set of weights\n",
    "layer_1_weights = np.array([\n",
    "    [0.2, 0.8, -0.5, 1],\n",
    "    [0.5, -0.91, 0.26, -0.5],\n",
    "    [-0.26, -0.27, 0.17, 0.87]\n",
    "])\n",
    "\n",
    "layer_2_weights = np.array([\n",
    "    [0.1, -0.14, 0.5],\n",
    "    [-0.5, 0.12, -0.33],\n",
    "    [-0.44, 0.73, -0.13]\n",
    "])\n",
    "\n",
    "# Biases\n",
    "layer_1_bias = np.array([2, 3, 0.5])\n",
    "layer_2_bias = np.array([-1, 2, -0.5])"
   ]
  },
  {
   "cell_type": "code",
   "execution_count": 3,
   "metadata": {},
   "outputs": [
    {
     "output_type": "stream",
     "name": "stdout",
     "text": [
      "[[ 0.50310004 -1.04184985 -2.03874993]\n [ 0.24339998 -2.73320007 -5.76329994]\n [-0.99314     1.41254002 -0.35655001]]\n"
     ]
    }
   ],
   "source": [
    "# Run dot product for each layer\n",
    "layer_1_output = np.dot(inputs, layer_1_weights.T) + layer_1_bias\n",
    "layer_2_output = np.dot(layer_1_output, layer_2_weights.T) + layer_2_bias\n",
    "\n",
    "# Show layer 2 output\n",
    "print(layer_2_output)"
   ]
  }
 ]
}